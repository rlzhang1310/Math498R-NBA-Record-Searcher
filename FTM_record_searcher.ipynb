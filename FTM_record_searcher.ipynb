{
 "cells": [
  {
   "cell_type": "code",
   "execution_count": null,
   "metadata": {},
   "outputs": [],
   "source": [
    "# %%\n",
    "import pandas as pd\n",
    "import numpy as np\n",
    "from sklearn import linear_model\n",
    "import requests\n",
    "from nba_api.stats import endpoints\n",
    "from nba_api.stats.static import players\n",
    "from nba_api.stats.endpoints import shotchartdetail\n",
    "from matplotlib import pyplot as plt\n",
    "from nba_api.stats.endpoints import commonplayerinfo\n",
    "from nba_api.stats.endpoints import playergamelog\n",
    "import datetime\n",
    "from retrying import retry\n",
    "import requests.exceptions"
   ]
  },
  {
   "cell_type": "code",
   "execution_count": null,
   "metadata": {},
   "outputs": [],
   "source": [
    "# %%\n",
    "# convert raw data to dataframe and convert date col \n",
    "NBA_CSV_PATH = './player_data/NBA_player_box_score_stats_1950_2022.csv'\n",
    "nba_csv = pd.read_csv(NBA_CSV_PATH)\n",
    "nba_csv['GAME_DATE'] = pd.to_datetime(nba_csv['GAME_DATE'])\n",
    "nba_csv['GAME_DATE'].head()"
   ]
  },
  {
   "cell_type": "code",
   "execution_count": null,
   "metadata": {},
   "outputs": [],
   "source": [
    "# get the players that scored the most ft in a game in a given time range\n",
    "# return value: dataframe\n",
    "def get_most_ftm_in1game_in_range(start, end, df):\n",
    "    start = pd.to_datetime(start)\n",
    "    end = pd.to_datetime(end)\n",
    "    range = pd.date_range(start, end)\n",
    "    df = df[df['GAME_DATE'].isin(range)]\n",
    "    max_ftm_in_game = df['FTM'].max()\n",
    "    players_with_max = df.loc[df['FTM'] == max_ftm_in_game]\n",
    "    \n",
    "    return players_with_max['PLAYER_NAME'].unique()\n",
    "\n",
    "# test from 2000-2022\n",
    "get_most_ftm_in1game_in_range('2000','2022',nba_csv)\n"
   ]
  }
 ],
 "metadata": {
  "language_info": {
   "name": "python"
  },
  "orig_nbformat": 4
 },
 "nbformat": 4,
 "nbformat_minor": 2
}
